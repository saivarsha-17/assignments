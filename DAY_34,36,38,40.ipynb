{
  "nbformat": 4,
  "nbformat_minor": 0,
  "metadata": {
    "colab": {
      "provenance": []
    },
    "kernelspec": {
      "name": "python3",
      "display_name": "Python 3"
    },
    "language_info": {
      "name": "python"
    }
  },
  "cells": [
    {
      "cell_type": "code",
      "execution_count": null,
      "metadata": {
        "colab": {
          "base_uri": "https://localhost:8080/"
        },
        "id": "xQYyqI6w1WdU",
        "outputId": "79ed76e7-f7ec-422b-b47b-aca5e1e7a0c4"
      },
      "outputs": [
        {
          "output_type": "stream",
          "name": "stdout",
          "text": [
            "Bag of Words Representation:\n",
            "   amazing  deep  fun  is  learning  love  machine\n",
            "0        0     0    0   0         1     1        1\n",
            "1        0     0    1   1         1     0        1\n",
            "2        1     1    0   1         1     0        0\n",
            "\n",
            "TF-IDF Representation:\n",
            "    amazing      deep       fun        is  learning      love   machine\n",
            "0  0.000000  0.000000  0.000000  0.000000  0.425441  0.720333  0.547832\n",
            "1  0.000000  0.000000  0.631745  0.480458  0.373119  0.000000  0.480458\n",
            "2  0.584483  0.584483  0.000000  0.444514  0.345205  0.000000  0.000000\n"
          ]
        }
      ],
      "source": [
        "#DAY 34\n",
        "from sklearn.feature_extraction.text import CountVectorizer, TfidfVectorizer\n",
        "import pandas as pd\n",
        "\n",
        "def bag_of_words_tfidf(texts):\n",
        "    # Bag of Words (BoW) Representation\n",
        "    count_vectorizer = CountVectorizer()\n",
        "    bow_matrix = count_vectorizer.fit_transform(texts)\n",
        "\n",
        "    # Convert BoW matrix to DataFrame for better readability\n",
        "    bow_df = pd.DataFrame(bow_matrix.toarray(), columns=count_vectorizer.get_feature_names_out())\n",
        "\n",
        "    # TF-IDF Representation\n",
        "    tfidf_vectorizer = TfidfVectorizer()\n",
        "    tfidf_matrix = tfidf_vectorizer.fit_transform(texts)\n",
        "\n",
        "    # Convert TF-IDF matrix to DataFrame for better readability\n",
        "    tfidf_df = pd.DataFrame(tfidf_matrix.toarray(), columns=tfidf_vectorizer.get_feature_names_out())\n",
        "\n",
        "    return bow_df, tfidf_df\n",
        "\n",
        "# Example Input\n",
        "texts = [\"I love machine learning\", \"Machine learning is fun\", \"Deep learning is amazing\"]\n",
        "\n",
        "# Compute BoW and TF-IDF representations\n",
        "bow_result, tfidf_result = bag_of_words_tfidf(texts)\n",
        "\n",
        "# Print results\n",
        "print(\"Bag of Words Representation:\")\n",
        "print(bow_result)\n",
        "print(\"\\nTF-IDF Representation:\")\n",
        "print(tfidf_result)\n"
      ]
    },
    {
      "cell_type": "code",
      "source": [
        "#DAY 36\n",
        "from sklearn.feature_extraction.text import CountVectorizer\n",
        "from sklearn.naive_bayes import MultinomialNB\n",
        "from sklearn.pipeline import make_pipeline\n",
        "\n",
        "# Sample training data\n",
        "texts = [\"I love programming\", \"Python is great\", \"Machine learning is amazing\",\n",
        "         \"I enjoy solving problems\", \"Deep learning is fascinating\", \"I write Python code\"]\n",
        "labels = [\"programming\", \"python\", \"machine learning\", \"programming\", \"machine learning\", \"python\"]\n",
        "\n",
        "# Create a pipeline with CountVectorizer and MultinomialNB\n",
        "model = make_pipeline(CountVectorizer(), MultinomialNB())\n",
        "\n",
        "# Train the model\n",
        "model.fit(texts, labels)\n",
        "\n",
        "# Function to predict category\n",
        "def predict_category(text):\n",
        "    return model.predict([text])[0]\n",
        "\n",
        "# Example usage\n",
        "new_text = \"I love coding in Python\"\n",
        "predicted_category = predict_category(new_text)\n",
        "print(f\"Predicted category: {predicted_category}\")\n"
      ],
      "metadata": {
        "colab": {
          "base_uri": "https://localhost:8080/"
        },
        "id": "PbotYxdz1iCn",
        "outputId": "588dbfb4-cc64-4ee4-d89e-7760c2e64d48"
      },
      "execution_count": null,
      "outputs": [
        {
          "output_type": "stream",
          "name": "stdout",
          "text": [
            "Predicted category: python\n"
          ]
        }
      ]
    },
    {
      "cell_type": "code",
      "source": [
        "#DAY 38\n",
        "from sklearn.feature_extraction.text import TfidfVectorizer\n",
        "from sklearn.tree import DecisionTreeClassifier\n",
        "from sklearn.pipeline import make_pipeline\n",
        "\n",
        "# Sample training data\n",
        "texts = [\"Spam messages are annoying\", \"I won a lottery\", \"This is a normal message\",\n",
        "         \"Claim your free prize now\", \"Hello, how are you?\"]\n",
        "labels = [\"spam\", \"spam\", \"ham\", \"spam\", \"ham\"]\n",
        "\n",
        "# Create a pipeline with TfidfVectorizer and DecisionTreeClassifier\n",
        "model = make_pipeline(TfidfVectorizer(), DecisionTreeClassifier())\n",
        "\n",
        "# Train the model\n",
        "model.fit(texts, labels)\n",
        "\n",
        "# Function to predict category\n",
        "def predict_category(text):\n",
        "    return model.predict([text])[0]\n",
        "\n",
        "# Example usage\n",
        "new_text = \"You have won a free gift\"\n",
        "predicted_category = predict_category(new_text)\n",
        "print(f\"Predicted category: {predicted_category}\")\n"
      ],
      "metadata": {
        "colab": {
          "base_uri": "https://localhost:8080/"
        },
        "id": "E1yonYut1yLo",
        "outputId": "253b2202-1159-4acb-e83f-1e9cba91c0b3"
      },
      "execution_count": null,
      "outputs": [
        {
          "output_type": "stream",
          "name": "stdout",
          "text": [
            "Predicted category: spam\n"
          ]
        }
      ]
    },
    {
      "cell_type": "code",
      "source": [
        "#DAY40\n",
        "from sklearn.feature_extraction.text import TfidfVectorizer\n",
        "from sklearn.ensemble import RandomForestClassifier\n",
        "from sklearn.pipeline import make_pipeline\n",
        "\n",
        "# Sample training data\n",
        "texts = [\"Buy now and win a prize\", \"Normal email content\", \"Congratulations, you won!\",\n",
        "         \"Limited time offer, act now\", \"Hello, how was your day?\"]\n",
        "labels = [\"spam\", \"ham\", \"spam\", \"spam\", \"ham\"]\n",
        "\n",
        "# Create a pipeline with TfidfVectorizer and RandomForestClassifier\n",
        "model = make_pipeline(TfidfVectorizer(), RandomForestClassifier())\n",
        "\n",
        "# Train the model\n",
        "model.fit(texts, labels)\n",
        "\n",
        "# Function to predict category\n",
        "def predict_category(text):\n",
        "    return model.predict([text])[0]\n",
        "\n",
        "# Example usage\n",
        "new_text = \"You have been selected for a special prize\"\n",
        "predicted_category = predict_category(new_text)\n",
        "print(f\"Predicted category: {predicted_category}\")\n"
      ],
      "metadata": {
        "colab": {
          "base_uri": "https://localhost:8080/"
        },
        "id": "p8_k0F7m2Cfh",
        "outputId": "e462ec4c-199f-40ff-d26c-987013357196"
      },
      "execution_count": null,
      "outputs": [
        {
          "output_type": "stream",
          "name": "stdout",
          "text": [
            "Predicted category: spam\n"
          ]
        }
      ]
    }
  ]
}